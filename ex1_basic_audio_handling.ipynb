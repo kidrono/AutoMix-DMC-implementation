{
  "cells": [
    {
      "cell_type": "markdown",
      "metadata": {
        "id": "view-in-github",
        "colab_type": "text"
      },
      "source": [
        "<a href=\"https://colab.research.google.com/github/kidrono/AutoMix-DMC-implementation/blob/main/ex1_basic_audio_handling.ipynb\" target=\"_parent\"><img src=\"https://colab.research.google.com/assets/colab-badge.svg\" alt=\"Open In Colab\"/></a>"
      ]
    },
    {
      "cell_type": "markdown",
      "source": [
        "# Ex1 - Basic Audio Handling:\n",
        "In this part of the exercise we will experiment with reading audio files, making visualizations and perform basic spectral analysis to them.\n",
        "We will then apply simple analytic tools to perform audio classification for 'phone numbers'.\n",
        "\n",
        "The main python packages required for this part would be: soundfile, numpy, scipy, matplotlib, librosa.\n",
        "You could alternatively use any other package you desire, e.g. torchaudio."
      ],
      "metadata": {
        "id": "JlVIAXFkwo32"
      }
    },
    {
      "cell_type": "markdown",
      "source": [
        "## Part A: Reading audio files, create stft , log-mel-spectrogram, mfcc visualizations of the signals.\n",
        "\n",
        "1. load the file: 'audio_16k/bird-sing.wav'\n",
        "2. plot its stft for the following settings: n_fft=512\n",
        "3. plot its log-mel-spectrogram (db_scale) for the following setting: num_fft=512,  hop_size = 512/4, n_filterbanks=80\n",
        "\n",
        "Notes:\n",
        "* to use librosa.features, librosa.display explicitly import them. e.g. 'import librosa.feature'"
      ],
      "metadata": {
        "id": "TlROQIE1w-W2"
      }
    },
    {
      "cell_type": "code",
      "execution_count": null,
      "metadata": {
        "id": "xRtHahUGoHrX"
      },
      "outputs": [],
      "source": [
        "# Place your code for this part here"
      ]
    },
    {
      "cell_type": "markdown",
      "source": [
        "## Part B: Basic Spectral analysis visualization.\n",
        "\n",
        "1. Create a 500[Hz] sine wave, corresponding to 16[KHz] sampling rate, of 3 seconds length. sine(500[Hz]) = sin(2 * pi * 500).\n",
        "2. Create an other 4[KHz] sine wave.  \n",
        "3. Plot the first 200 samples of the generated sine waves, and the sum of the generated waves in a single plot, \n",
        "   each in a different color. Use alpha = 0.7 to diminish occlusions.\n",
        "4. plot the fourier transform of the signals, in three different plots.\n",
        "\n",
        "Note:\n",
        "The FFT plots should only consider the POSITIVE side of the frequency axis, please make sure to have ticks on your x and y axes so the plot would be interpretable."
      ],
      "metadata": {
        "id": "KwlBk5p9xKfm"
      }
    },
    {
      "cell_type": "code",
      "execution_count": null,
      "metadata": {
        "id": "TBBi-3bnoHrZ"
      },
      "outputs": [],
      "source": [
        "# Place your code for this part here"
      ]
    },
    {
      "cell_type": "markdown",
      "source": [
        "## Part C: playing with sampling rate.\n",
        "\n",
        "In this part we would observe the influences of sampling frequency by using a toy setup where we control the sampling frequency of a given cascaded sine wave.\n",
        "\n",
        "1. Generate a sine wave corresponding to sum([sine(1000[Hz]), sine(3000[Hz]), sine(7000[Hz]), sine(15000[Hz])]) using a 32[KHz] sampling frequency, with duration of 3 secs.\n",
        "2. Define a function `resample(signal, new_fs, old_fs)` that downsamples the given signal from old_fs sampling frequency to new_fs sampling frequency. \n",
        "   Use `torchaudio.transforms.Resample` for this purpose.\n",
        "3. Downsamle the generated signal to 16[KHz] and to 8[KHz] by by 'skipping' samples, i.e. downsampling 32Khz to 16KHz is simply taking every other sample..\n",
        "4. Use `torchaudio.transforms.Resample` to artificially resume 32[KHz] sampling frequency for the downsampled signals \n",
        "   (this is to ensure that your fft plots would contain spectral frequencies ranging from 0-16k, why is that?).\n",
        "5. Observe the FFT plots of the generated signals, do you see any phenomena occuring? describe the phenomena. \n",
        "   why is this happening? explain.\n",
        "\n",
        "Note: your FFT plots should plot all frequencies ranging 0 - 16000"
      ],
      "metadata": {
        "id": "n222A99AxSaK"
      }
    },
    {
      "cell_type": "code",
      "execution_count": null,
      "metadata": {
        "id": "vimf5hXCoHra"
      },
      "outputs": [],
      "source": [
        "# Place your code for this part here"
      ]
    },
    {
      "cell_type": "markdown",
      "source": [
        "Answer non-code questions here"
      ],
      "metadata": {
        "id": "HbEOLsqtxYh6"
      }
    },
    {
      "cell_type": "markdown",
      "source": [
        "## Part D: classify phone digits.\n",
        "\n",
        "In `phone_digits_8k` you will find 8[KHz] wav samples of 'phone digit' recording.\n",
        "Construct a rule-based classifier that identifies a given digit (corresponding to the file name).\n",
        "Your classifier should output a string of the corresponding key label.\n",
        "Iterate over audio files and print out the expected and predicted labels.\n",
        "\n",
        "Hint: `scipy.signal.find_peaks` could be usefull, Naive implementation is sufficient for this section."
      ],
      "metadata": {
        "id": "ItMeN8H6xcYM"
      }
    },
    {
      "cell_type": "code",
      "execution_count": null,
      "metadata": {
        "id": "XDYskg5MoHrb"
      },
      "outputs": [],
      "source": [
        "# Place your code for this part here"
      ]
    }
  ],
  "metadata": {
    "kernelspec": {
      "display_name": "env",
      "language": "python",
      "name": "python3"
    },
    "language_info": {
      "codemirror_mode": {
        "name": "ipython",
        "version": 3
      },
      "file_extension": ".py",
      "mimetype": "text/x-python",
      "name": "python",
      "nbconvert_exporter": "python",
      "pygments_lexer": "ipython3",
      "version": "3.9.15"
    },
    "orig_nbformat": 4,
    "colab": {
      "provenance": [],
      "include_colab_link": true
    }
  },
  "nbformat": 4,
  "nbformat_minor": 0
}